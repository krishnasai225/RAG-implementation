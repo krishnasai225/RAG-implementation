{
  "nbformat": 4,
  "nbformat_minor": 0,
  "metadata": {
    "colab": {
      "provenance": [],
      "include_colab_link": true
    },
    "kernelspec": {
      "name": "python3",
      "display_name": "Python 3"
    },
    "language_info": {
      "name": "python"
    }
  },
  "cells": [
    {
      "cell_type": "markdown",
      "metadata": {
        "id": "view-in-github",
        "colab_type": "text"
      },
      "source": [
        "<a href=\"https://colab.research.google.com/github/krishnasai225/News-Summarizer-Multi-Agent/blob/main/RAG_Impl_Krishna.ipynb\" target=\"_parent\"><img src=\"https://colab.research.google.com/assets/colab-badge.svg\" alt=\"Open In Colab\"/></a>"
      ]
    },
    {
      "cell_type": "code",
      "execution_count": null,
      "metadata": {
        "colab": {
          "base_uri": "https://localhost:8080/"
        },
        "id": "gGutdrwaVCTP",
        "outputId": "35120ad5-a0c9-4258-8a81-5190453afb16"
      },
      "outputs": [
        {
          "output_type": "stream",
          "name": "stdout",
          "text": [
            "\u001b[?25l   \u001b[90m━━━━━━━━━━━━━━━━━━━━━━━━━━━━━━━━━━━━━━━━\u001b[0m \u001b[32m0.0/42.0 kB\u001b[0m \u001b[31m?\u001b[0m eta \u001b[36m-:--:--\u001b[0m\r\u001b[2K   \u001b[90m━━━━━━━━━━━━━━━━━━━━━━━━━━━━━━━━━━━━━━━━\u001b[0m \u001b[32m42.0/42.0 kB\u001b[0m \u001b[31m1.3 MB/s\u001b[0m eta \u001b[36m0:00:00\u001b[0m\n",
            "\u001b[?25h"
          ]
        }
      ],
      "source": [
        "!pip install -q --upgrade google-generativeai langchain-google-genai"
      ]
    },
    {
      "cell_type": "code",
      "source": [
        "from google.colab import userdata\n",
        "API_KEY = userdata.get('GOOGLE_API_KEY')"
      ],
      "metadata": {
        "id": "Th7Or4u9Vdxh"
      },
      "execution_count": null,
      "outputs": []
    },
    {
      "cell_type": "code",
      "source": [
        "from langchain_google_genai import ChatGoogleGenerativeAI\n",
        "\n",
        "model = ChatGoogleGenerativeAI(model=\"gemini-2.0-flash\",api_key=API_KEY)"
      ],
      "metadata": {
        "id": "l9Q3WO2aVerk"
      },
      "execution_count": null,
      "outputs": []
    },
    {
      "cell_type": "code",
      "source": [
        "!pip install langchain_community"
      ],
      "metadata": {
        "id": "eWDTuKngVmjG"
      },
      "execution_count": null,
      "outputs": []
    },
    {
      "cell_type": "code",
      "source": [
        "!pip install pypdf"
      ],
      "metadata": {
        "id": "5pU-p5VyVsWI"
      },
      "execution_count": null,
      "outputs": []
    },
    {
      "cell_type": "code",
      "source": [
        "from langchain_community.document_loaders import PyPDFLoader\n",
        "\n",
        "pdfloader = PyPDFLoader('https://www.notion.so/Wireframes-My-Work-7e36c8ca48484e86b8035ad776ed5a89')\n",
        "loaded_pdf_doc = pdfloader.load()"
      ],
      "metadata": {
        "colab": {
          "base_uri": "https://localhost:8080/"
        },
        "id": "4EMH_mJhVvHf",
        "outputId": "1f3d6ee4-1526-4979-db3b-c1d9c75c7049"
      },
      "execution_count": null,
      "outputs": [
        {
          "output_type": "stream",
          "name": "stderr",
          "text": [
            "WARNING:pypdf._reader:Ignoring wrong pointing object 154 0 (offset 0)\n"
          ]
        }
      ]
    },
    {
      "cell_type": "code",
      "source": [
        "from langchain.text_splitter import RecursiveCharacterTextSplitter\n",
        "\n",
        "recursive_splitter = RecursiveCharacterTextSplitter(chunk_size=300, chunk_overlap=50, separators=['\\n\\n', '\\n', ' '])"
      ],
      "metadata": {
        "id": "zoF6XC1oW7Gh"
      },
      "execution_count": null,
      "outputs": []
    },
    {
      "cell_type": "code",
      "source": [
        "chunks = recursive_splitter.split_documents(loaded_pdf_doc)\n",
        "print(len(chunks))"
      ],
      "metadata": {
        "colab": {
          "base_uri": "https://localhost:8080/"
        },
        "id": "gL1XrP6aXUm2",
        "outputId": "8caa24d1-62a5-4271-f7d7-e9341ea829ad"
      },
      "execution_count": null,
      "outputs": [
        {
          "output_type": "stream",
          "name": "stdout",
          "text": [
            "124\n"
          ]
        }
      ]
    },
    {
      "cell_type": "code",
      "source": [
        "!pip install chromadb"
      ],
      "metadata": {
        "id": "dEB_sna8XgMB"
      },
      "execution_count": null,
      "outputs": []
    },
    {
      "cell_type": "code",
      "source": [
        "from langchain_google_genai import GoogleGenerativeAIEmbeddings\n",
        "embeddings = GoogleGenerativeAIEmbeddings(model='models/embedding-001',google_api_key=API_KEY)"
      ],
      "metadata": {
        "id": "F8ZK9n5dXrO8"
      },
      "execution_count": null,
      "outputs": []
    },
    {
      "cell_type": "code",
      "source": [
        "from langchain.vectorstores import Chroma\n",
        "vector_store = Chroma.from_documents(documents=chunks, embedding=embeddings)"
      ],
      "metadata": {
        "id": "P6GkLFbNXvgk"
      },
      "execution_count": null,
      "outputs": []
    },
    {
      "cell_type": "code",
      "source": [
        "vector_index = vector_store.as_retriever(search_kwargs={'k':8})"
      ],
      "metadata": {
        "id": "DPC0TkKhX15P"
      },
      "execution_count": null,
      "outputs": []
    },
    {
      "cell_type": "code",
      "source": [
        "from langchain.chains import RetrievalQA\n",
        "rag = RetrievalQA.from_chain_type(\n",
        "    model,\n",
        "    retriever = vector_index,\n",
        "    return_source_documents=True\n",
        ")"
      ],
      "metadata": {
        "id": "cR-1evCXbrDC"
      },
      "execution_count": null,
      "outputs": []
    },
    {
      "cell_type": "code",
      "source": [
        "question = 'Can you talk about what is there in property1?'\n",
        "response = rag({\"query\":question})\n",
        "print(response)"
      ],
      "metadata": {
        "colab": {
          "base_uri": "https://localhost:8080/"
        },
        "id": "jUUKTkArd0vy",
        "outputId": "2bb03c41-d3d1-42bb-821e-0c52facd1ba6"
      },
      "execution_count": null,
      "outputs": [
        {
          "output_type": "stream",
          "name": "stderr",
          "text": [
            "<ipython-input-14-c448bf1da85f>:2: LangChainDeprecationWarning: The method `Chain.__call__` was deprecated in langchain 0.1.0 and will be removed in 1.0. Use :meth:`~invoke` instead.\n",
            "  response = rag({\"query\":question})\n"
          ]
        },
        {
          "output_type": "stream",
          "name": "stdout",
          "text": [
            "{'query': 'what is spam according to the doc?', 'result': 'Spam is posting untargeted, unwanted, and repetitive content, comments, or messages with the intention to spam a Public Forum or otherwise the Platform and to drive traffic from the Platform to other third-party sites. Posting links to external websites with malware and other prohibited sites is not allowed.', 'source_documents': [Document(metadata={'source': '/content/TermsofUseVB.pdf', 'creator': 'PyPDF', 'page_label': '8', 'creationdate': '', 'page': 7, 'producer': 'Skia/PDF m136 Google Docs Renderer', 'title': 'Terms of Use - VB', 'total_pages': 16}, page_content='of\\n \\nindividuals,\\n \\ncontent\\n \\nor\\n \\ncomments\\n \\nuploaded\\n \\nin\\n \\norder\\n \\nto\\n \\nhumiliate\\n \\nsomeone,\\n \\nsexual\\n \\nharassment\\n \\nor\\n \\nsexual\\n \\nbullying\\n \\nin\\n \\nany\\n \\nform.\\n 50.   51.  Spam:  Posting  untargeted,  unwanted  and  repetitive  content,  \\ncomments\\n \\nor\\n \\nmessages\\n \\nwith\\n \\nan\\n \\nintention\\n \\nto'), Document(metadata={'source': '/content/TermsofUseVB.pdf', 'producer': 'Skia/PDF m136 Google Docs Renderer', 'page_label': '8', 'page': 7, 'creator': 'PyPDF', 'total_pages': 16, 'creationdate': '', 'title': 'Terms of Use - VB'}, page_content='or\\n \\nmessages\\n \\nwith\\n \\nan\\n \\nintention\\n \\nto\\n \\nspam\\n \\na\\n \\nPublic\\n \\nForum\\n \\nor\\n \\notherwise\\n \\nthe\\n \\nPlatform\\n \\nand\\n \\nto\\n \\ndrive\\n \\ntraffic\\n \\nfrom\\n \\nthe\\n \\nPlatform\\n \\nto\\n \\nother\\n \\nthird-party\\n \\nsites\\n \\nis\\n \\nin\\n \\ndirect\\n \\nviolation\\n \\nof\\n \\nthis\\n \\nAgreement.\\n \\nPosting\\n \\nlinks\\n \\nto\\n \\nexternal\\n \\nwebsites'), Document(metadata={'creationdate': '', 'creator': 'PyPDF', 'title': 'Terms of Use - VB', 'source': '/content/TermsofUseVB.pdf', 'producer': 'Skia/PDF m136 Google Docs Renderer', 'page_label': '9', 'page': 8, 'total_pages': 16}, page_content='would\\n \\nmean\\n \\nthe\\n \\nintention\\n \\nto\\n \\ncause\\n \\nconfusion\\n \\nregarding\\n \\nwho\\n \\nthe\\n \\nreal\\n \\nperson\\n \\nis\\n \\nby\\n \\npretending\\n \\nto\\n \\nbe\\n \\nthem\\n \\n(such\\n \\nas\\n \\nusing\\n \\nnames,\\n \\nimage,\\n \\ndocuments,\\n \\ncertificates\\n \\netc.\\n \\nnot\\n \\nbelonging\\n \\nto\\n \\nYou\\n \\nor\\n \\nnot\\n \\nused\\n \\nto\\n \\nidentify\\n \\nYou,\\n \\nor\\n \\npretending'), Document(metadata={'total_pages': 16, 'producer': 'Skia/PDF m136 Google Docs Renderer', 'creationdate': '', 'source': '/content/TermsofUseVB.pdf', 'title': 'Terms of Use - VB', 'page_label': '8', 'creator': 'PyPDF', 'page': 7}, page_content='Posting\\n \\nlinks\\n \\nto\\n \\nexternal\\n \\nwebsites\\n \\nwith\\n \\nmalware\\n \\nand\\n \\nother\\n \\nprohibited\\n \\nsites\\n \\nis\\n \\nnot\\n \\nallowed.\\n 52.'), Document(metadata={'source': '/content/TermsofUseVB.pdf', 'page_label': '9', 'creator': 'PyPDF', 'page': 8, 'title': 'Terms of Use - VB', 'creationdate': '', 'producer': 'Skia/PDF m136 Google Docs Renderer', 'total_pages': 16}, page_content='53.  Scams:  Any  content  uploaded  or  posted  in  order  to  trick  others  for  \\ntheir\\n \\nown\\n \\nfinancial\\n \\ngain\\n \\nis\\n \\nnot\\n \\nallowed\\n \\nand\\n \\nwe\\n \\ndo\\n \\nnot\\n \\ntolerate\\n \\nany\\n \\npractices\\n \\nof\\n \\nextortion\\n \\nor\\n \\nblackmail,\\n \\neither.'), Document(metadata={'page': 4, 'source': '/content/TermsofUseVB.pdf', 'creationdate': '', 'creator': 'PyPDF', 'page_label': '5', 'title': 'Terms of Use - VB', 'producer': 'Skia/PDF m136 Google Docs Renderer', 'total_pages': 16}, page_content='(including\\n \\n.doc,\\n \\n.docx,\\n \\nand\\n \\n.pdfs)\\n \\n(other\\n \\nthan\\n \\nthe\\n \\nContent)\\n \\nuploaded\\n \\nor\\n \\notherwise\\n \\npublished\\n \\non\\n \\nthe\\n \\nPlatform\\n \\nby\\n \\nthe\\n \\nCreator\\n \\nto\\n \\nbe\\n \\naccessed\\n \\nby\\n \\nYou,\\n \\nincluding,\\n \\nbut\\n \\nnot\\n \\nlimited\\n \\nto\\n \\nany\\n \\nsuch\\n \\ncontent/material\\n \\nposted\\n \\nby\\n \\nthe\\n \\nCreator'), Document(metadata={'total_pages': 16, 'producer': 'Skia/PDF m136 Google Docs Renderer', 'creator': 'PyPDF', 'creationdate': '', 'page': 7, 'source': '/content/TermsofUseVB.pdf', 'title': 'Terms of Use - VB', 'page_label': '8'}, page_content='limited\\n \\nto\\n \\nrace\\n \\nor\\n \\nethnic\\n \\norigin,\\n \\ncountry\\n \\ncaste,\\n \\nreligion,\\n \\ndisability,\\n \\ngender,\\n \\nage,\\n \\nsexual\\n \\norientation/gender\\n \\nidentity\\n \\netc.\\n 46.   47.  Violent  and  graphic  content:  Any  content,  the  sole  objective  of  which  \\nis\\n \\nto\\n \\nsensationalise,\\n \\nshock\\n \\nor\\n \\ndisturb'), Document(metadata={'title': 'Terms of Use - VB', 'page_label': '8', 'producer': 'Skia/PDF m136 Google Docs Renderer', 'page': 7, 'creationdate': '', 'creator': 'PyPDF', 'total_pages': 16, 'source': '/content/TermsofUseVB.pdf'}, page_content='learning.\\n \\nHarassment\\n \\nin\\n \\nthis\\n \\ncase\\n \\nwould\\n \\ninclude,\\n \\nwithout\\n \\nlimitation,\\n \\nto\\n \\nabusive\\n \\nvideos,\\n \\ncomments,\\n \\nmessages,\\n \\nrevealing\\n \\nsomeone’s\\n \\npersonal\\n \\ninformation,\\n \\nincluding\\n \\nsensitive\\n \\npersonally\\n \\nidentifiable\\n \\ninformation\\n \\nof\\n \\nindividuals,\\n \\ncontent\\n \\nor\\n \\ncomments')]}\n"
          ]
        }
      ]
    }
  ]
}